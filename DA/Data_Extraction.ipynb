{
 "cells": [
  {
   "cell_type": "markdown",
   "id": "dc4f9140",
   "metadata": {},
   "source": [
    "From Local Files \n"
   ]
  },
  {
   "cell_type": "code",
   "execution_count": null,
   "id": "8ac5a47e",
   "metadata": {},
   "outputs": [],
   "source": [
    "# import pandas as pd\n",
    " \n",
    "# # CSV\n",
    "# df = pd.read_csv('data.csv')\n",
    "\n",
    "# # Excel\n",
    "# df = pd.read_excel('data.xlsx', sheet_name='Sheet1')\n",
    "\n",
    "# # JSON\n",
    "# df = pd.read_json('data.json')"
   ]
  },
  {
   "cell_type": "markdown",
   "id": "8c3b63e0",
   "metadata": {},
   "source": [
    "From Urls"
   ]
  },
  {
   "cell_type": "code",
   "execution_count": null,
   "id": "36856dcd",
   "metadata": {},
   "outputs": [],
   "source": [
    "# CSV from URL\n",
    "# df = pd.read_csv('https://website.com/data.csv')\n",
    "\n",
    "# # From GitHub raw file\n",
    "# url = 'https://raw.githubusercontent.com/user/repo/main/data.csv'\n",
    "# df = pd.read_csv(url)"
   ]
  },
  {
   "cell_type": "markdown",
   "id": "2bd4348a",
   "metadata": {},
   "source": [
    "From Databases"
   ]
  },
  {
   "cell_type": "code",
   "execution_count": null,
   "id": "b56ff285",
   "metadata": {},
   "outputs": [],
   "source": [
    "# import sqlite3\n",
    "# # SQLite\n",
    "# conn = sqlite3.connect('database.db')\n",
    "# df = pd.read_sql_query(\"SELECT * FROM table\", conn)\n",
    "\n",
    "# # PostgreSQL/MySQL\n",
    "# import psycopg2\n",
    "# conn = psycopg2.connect(\"dbname=test user=postgres\")\n",
    "# df = pd.read_sql_query(\"SELECT * FROM table\", conn)"
   ]
  },
  {
   "cell_type": "markdown",
   "id": "3ed5e51e",
   "metadata": {},
   "source": [
    "From APIs"
   ]
  },
  {
   "cell_type": "code",
   "execution_count": null,
   "id": "c3c6aa8f",
   "metadata": {},
   "outputs": [],
   "source": [
    "# import requests\n",
    "# response = requests.get('https://api.example.com/data')\n",
    "# df = pd.DataFrame(response.json())"
   ]
  },
  {
   "cell_type": "markdown",
   "id": "d5c01255",
   "metadata": {},
   "source": [
    "From built-in sample Dataset "
   ]
  },
  {
   "cell_type": "code",
   "execution_count": null,
   "id": "f75d24fc",
   "metadata": {},
   "outputs": [],
   "source": [
    "# # Seaborn\n",
    "# import seaborn as sns\n",
    "# df = sns.load_dataset('titanic')\n",
    "\n",
    "# # Scikit-learn\n",
    "# from sklearn.datasets import load_iris\n",
    "# iris = load_iris()\n",
    "# df = pd.DataFrame(iris.data, columns=iris.feature_names)"
   ]
  },
  {
   "cell_type": "markdown",
   "id": "1432b8dd",
   "metadata": {},
   "source": [
    "from webscrapping"
   ]
  },
  {
   "cell_type": "code",
   "execution_count": null,
   "id": "077de710",
   "metadata": {},
   "outputs": [],
   "source": [
    "# import requests\n",
    "# from bs4 import BeautifulSoup\n",
    "# # Scrape table from webpage\n",
    "# url = 'https://example.com/table'\n",
    "# dfs = pd.read_html(url)"
   ]
  }
 ],
 "metadata": {
  "kernelspec": {
   "display_name": "Python 3",
   "language": "python",
   "name": "python3"
  },
  "language_info": {
   "codemirror_mode": {
    "name": "ipython",
    "version": 3
   },
   "file_extension": ".py",
   "mimetype": "text/x-python",
   "name": "python",
   "nbconvert_exporter": "python",
   "pygments_lexer": "ipython3",
   "version": "3.13.5"
  }
 },
 "nbformat": 4,
 "nbformat_minor": 5
}
