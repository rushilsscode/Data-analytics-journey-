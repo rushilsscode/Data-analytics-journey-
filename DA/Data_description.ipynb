{
 "cells": [
  {
   "cell_type": "markdown",
   "id": "d9a9c596",
   "metadata": {},
   "source": [
    "Basic Overview of Data"
   ]
  },
  {
   "cell_type": "code",
   "execution_count": null,
   "id": "6ec139f8",
   "metadata": {},
   "outputs": [],
   "source": [
    "# df.shape           # (rows, columns)\n",
    "# df.columns         # Column names\n",
    "# df.index           # Row indexes\n",
    "# df.dtypes          # Data types for each column"
   ]
  },
  {
   "cell_type": "markdown",
   "id": "14cbc9b9",
   "metadata": {},
   "source": [
    "Data Sampling"
   ]
  },
  {
   "cell_type": "code",
   "execution_count": null,
   "id": "edee3b34",
   "metadata": {},
   "outputs": [],
   "source": [
    "# df.head()          # First 5 rows\n",
    "# df.tail()          # Last 5 rows  \n",
    "# df.sample(5)       # Random 5 rows\n",
    "# df.head(10)        # First 10 rows"
   ]
  },
  {
   "cell_type": "markdown",
   "id": "2536fb8b",
   "metadata": {},
   "source": [
    "Data Types & Info\n"
   ]
  },
  {
   "cell_type": "code",
   "execution_count": null,
   "id": "0bcc8954",
   "metadata": {},
   "outputs": [],
   "source": [
    "# df.info()          # Comprehensive info\n",
    "# df.describe()      # Stats for numerical columns\n",
    "# df.describe(include='object')  # Stats for text columns\n",
    "# df.describe(include='all')     # Stats for all columns"
   ]
  },
  {
   "cell_type": "markdown",
   "id": "bb248265",
   "metadata": {},
   "source": [
    " Missing Data Analysis"
   ]
  },
  {
   "cell_type": "code",
   "execution_count": null,
   "id": "d6517d3d",
   "metadata": {},
   "outputs": [],
   "source": [
    "# df.isnull()        # Boolean mask of missing values\n",
    "# df.isnull().sum()  # Count missing per column\n",
    "# df.isnull().mean() # Percentage missing per column\n",
    "# df.notnull()       # Inverse of isnull()"
   ]
  },
  {
   "cell_type": "markdown",
   "id": "5de0a6c8",
   "metadata": {},
   "source": [
    "Unique Values & Cardinality"
   ]
  },
  {
   "cell_type": "markdown",
   "id": "d1bc98c3",
   "metadata": {},
   "source": [
    "<!-- df.nunique()               # Unique counts per column\n",
    "df['column'].unique()      # All unique values\n",
    "df['column'].value_counts() # Frequency of each value -->"
   ]
  }
 ],
 "metadata": {
  "language_info": {
   "name": "python"
  }
 },
 "nbformat": 4,
 "nbformat_minor": 5
}
